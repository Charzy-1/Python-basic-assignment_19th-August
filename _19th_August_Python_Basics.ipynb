{
 "cells": [
  {
   "cell_type": "code",
   "execution_count": 14,
   "id": "b961eb31-38d1-4ec9-b81c-13c8db18bbb1",
   "metadata": {},
   "outputs": [],
   "source": [
    "#This creates two variables and swaps the variable without using temporal variable\n",
    "x, y = 5, 10 "
   ]
  },
  {
   "cell_type": "code",
   "execution_count": 15,
   "id": "11afa604-d61e-4a4a-ae1f-542429a1ef0e",
   "metadata": {},
   "outputs": [],
   "source": [
    "x = x + y\n",
    "y = x - y\n",
    "x = x - y"
   ]
  },
  {
   "cell_type": "code",
   "execution_count": 16,
   "id": "af4692af-f1c4-4afa-adb0-6a028ff726b3",
   "metadata": {},
   "outputs": [
    {
     "data": {
      "text/plain": [
       "10"
      ]
     },
     "execution_count": 16,
     "metadata": {},
     "output_type": "execute_result"
    }
   ],
   "source": [
    "x"
   ]
  },
  {
   "cell_type": "code",
   "execution_count": 17,
   "id": "584629c7-3531-4094-af2a-7c7079901204",
   "metadata": {},
   "outputs": [
    {
     "data": {
      "text/plain": [
       "5"
      ]
     },
     "execution_count": 17,
     "metadata": {},
     "output_type": "execute_result"
    }
   ],
   "source": [
    "y"
   ]
  },
  {
   "cell_type": "markdown",
   "id": "aee206e4-8dd6-4207-96f4-e4551a8efdf7",
   "metadata": {},
   "source": [
    "### Question 2: Calculating the area of a rectangle from the formula A = l*w where l is the length and w is the width"
   ]
  },
  {
   "cell_type": "code",
   "execution_count": 22,
   "id": "e7086981-2748-4f25-9c1b-84450f48fa91",
   "metadata": {},
   "outputs": [
    {
     "name": "stdin",
     "output_type": "stream",
     "text": [
      "Please enter a leghth:  4\n",
      "Please enter a width:  5\n"
     ]
    }
   ],
   "source": [
    "l = int(input('Please enter a leghth: '))\n",
    "w = int(input('Please enter a width: '))"
   ]
  },
  {
   "cell_type": "code",
   "execution_count": 24,
   "id": "e2c99d00-8641-4001-82de-ab74f62617bf",
   "metadata": {},
   "outputs": [
    {
     "data": {
      "text/plain": [
       "20"
      ]
     },
     "execution_count": 24,
     "metadata": {},
     "output_type": "execute_result"
    }
   ],
   "source": [
    "a = l*w\n",
    "a"
   ]
  },
  {
   "cell_type": "markdown",
   "id": "86f7d11a-cc9f-47cd-8599-b7a15305a86d",
   "metadata": {},
   "source": [
    "### Question 3: Converting celcius to farenheit with the formula: farenheit = (celsius * 9/5) + 32"
   ]
  },
  {
   "cell_type": "code",
   "execution_count": 39,
   "id": "fa666c73-1bd7-434d-a938-b2389205f61f",
   "metadata": {},
   "outputs": [
    {
     "name": "stdin",
     "output_type": "stream",
     "text": [
      "Enter your celsius scale:  20\n"
     ]
    }
   ],
   "source": [
    "# (celsius * 9/5) + 32\n",
    "celsius = float(input('Enter your celsius scale: '))"
   ]
  },
  {
   "cell_type": "code",
   "execution_count": 40,
   "id": "64aa859f-39bc-46c0-8892-55b57fff3aeb",
   "metadata": {},
   "outputs": [
    {
     "data": {
      "text/plain": [
       "68.0"
      ]
     },
     "execution_count": 40,
     "metadata": {},
     "output_type": "execute_result"
    }
   ],
   "source": [
    "#converting to fahrenheit and printing it\n",
    "fahrenheit = (celsius * 9/5) + 32\n",
    "fahrenheit"
   ]
  },
  {
   "cell_type": "markdown",
   "id": "82db6311-4db3-4f02-9980-f96e298a9a48",
   "metadata": {},
   "source": [
    "### This takes a string as input and prints the length of the string."
   ]
  },
  {
   "cell_type": "code",
   "execution_count": 29,
   "id": "3d4b732c-cfb2-47fe-b6f5-3d4f918b21e4",
   "metadata": {},
   "outputs": [
    {
     "name": "stdin",
     "output_type": "stream",
     "text": [
      "Enter some letters here:  gdakfdfdjahjalj\n"
     ]
    },
    {
     "data": {
      "text/plain": [
       "15"
      ]
     },
     "execution_count": 29,
     "metadata": {},
     "output_type": "execute_result"
    }
   ],
   "source": [
    "#Taking the user's input\n",
    "strg = input('Enter some letters here: ')\n",
    "\n",
    "#calculating the length of the string\n",
    "len(strg)"
   ]
  },
  {
   "cell_type": "markdown",
   "id": "f5c9798a-666f-49fd-ba7b-e7d972f5a918",
   "metadata": {},
   "source": [
    "### Create a program that takes a sentence from the user and counts the number of vowels (a, e, i, o, u) in the string."
   ]
  },
  {
   "cell_type": "code",
   "execution_count": 31,
   "id": "4e21373f-4d45-4d53-bdd0-510bd6d856cf",
   "metadata": {},
   "outputs": [],
   "source": [
    "# No idea to the solution of the question"
   ]
  },
  {
   "cell_type": "markdown",
   "id": "c49a8910-95a6-4741-bb02-17952d99fe31",
   "metadata": {},
   "source": [
    "###  Given a string, reverse the order of characters using string slicing and print the reversed string."
   ]
  },
  {
   "cell_type": "code",
   "execution_count": 33,
   "id": "acd1cb31-26ab-44d0-8d66-640fea3e9c52",
   "metadata": {},
   "outputs": [
    {
     "data": {
      "text/plain": [
       "'selrahC'"
      ]
     },
     "execution_count": 33,
     "metadata": {},
     "output_type": "execute_result"
    }
   ],
   "source": [
    "my_string = 'Charles'\n",
    "\n",
    "#print the reversal as output\n",
    "my_string[::-1]"
   ]
  },
  {
   "cell_type": "markdown",
   "id": "bfe1cb9d-94ea-4777-88f1-da992678e34b",
   "metadata": {},
   "source": [
    "###  Write a program that takes a string as input and checks if it is a palindrome (reads the same forwards and backwards)."
   ]
  },
  {
   "cell_type": "code",
   "execution_count": 37,
   "id": "833a4ca9-0599-4233-beaa-b6a3b18dedf4",
   "metadata": {},
   "outputs": [
    {
     "name": "stdin",
     "output_type": "stream",
     "text": [
      "Enter a string:  clinton\n"
     ]
    },
    {
     "data": {
      "text/plain": [
       "'The string is not a palindrome.'"
      ]
     },
     "execution_count": 37,
     "metadata": {},
     "output_type": "execute_result"
    }
   ],
   "source": [
    "#Getting the input from the user\n",
    "input_string = input(\"Enter a string: \")\n",
    "\n",
    "cleaned_str = input_string.replace(\" \", \"\").lower()\n",
    "is_palindrome = cleaned_str == cleaned_str[::-1]\n",
    "output = [\"not a\", \"\"][is_palindrome]\n",
    "\n",
    "# using the f sting format \n",
    "output = (f\"The string is {output} palindrome.\")\n",
    "\n",
    "#print to check the output\n",
    "output"
   ]
  },
  {
   "cell_type": "markdown",
   "id": "533fc18b-275a-4714-aed3-cd73c4c6b9da",
   "metadata": {},
   "source": [
    "### Create a program that takes a string as input and removes all the spaces from it. Print the modified string without spaces."
   ]
  },
  {
   "cell_type": "code",
   "execution_count": 38,
   "id": "6bc5a8ff-d5d0-420f-8a7e-4ff2009db9c3",
   "metadata": {},
   "outputs": [
    {
     "name": "stdin",
     "output_type": "stream",
     "text": [
      "Enter a string:  My God is able\n"
     ]
    },
    {
     "data": {
      "text/plain": [
       "'MyGodisable'"
      ]
     },
     "execution_count": 38,
     "metadata": {},
     "output_type": "execute_result"
    }
   ],
   "source": [
    "# Taking input from the user\n",
    "the_string = input(\"Enter a string: \")\n",
    "\n",
    "# Removing spaces from the string\n",
    "new_string = the_string.replace(\" \", \"\")\n",
    "\n",
    "#print the new string\n",
    "new_string"
   ]
  },
  {
   "cell_type": "code",
   "execution_count": null,
   "id": "c881556c-ebcb-4ee4-aca5-8f237d5ec350",
   "metadata": {},
   "outputs": [],
   "source": []
  }
 ],
 "metadata": {
  "kernelspec": {
   "display_name": "Python 3 (ipykernel)",
   "language": "python",
   "name": "python3"
  },
  "language_info": {
   "codemirror_mode": {
    "name": "ipython",
    "version": 3
   },
   "file_extension": ".py",
   "mimetype": "text/x-python",
   "name": "python",
   "nbconvert_exporter": "python",
   "pygments_lexer": "ipython3",
   "version": "3.10.8"
  }
 },
 "nbformat": 4,
 "nbformat_minor": 5
}
